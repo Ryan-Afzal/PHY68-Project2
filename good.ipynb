{
 "cells": [
  {
   "cell_type": "code",
   "execution_count": 1,
   "metadata": {},
   "outputs": [],
   "source": [
    "import numpy as np\n",
    "from scipy import sparse as sparse\n",
    "from scipy.sparse.linalg import eigs\n",
    "from matplotlib import pyplot as plt\n",
    "from scipy.integrate import solve_ivp\n",
    "\n"
   ]
  },
  {
   "cell_type": "code",
   "execution_count": 2,
   "metadata": {},
   "outputs": [],
   "source": [
    "h_bar = 197.3 #c^2 MeV fm\n",
    "m_p = 4 * 931.494 # MeV c^2\n",
    "q_e = 1.44 \n",
    "e_p = 2 #eV\n",
    "Polonium_212 = [208, -40, 84] \n",
    "N = 2000\n",
    "r = np.linspace(0.0, 27, N, endpoint=False) #fm"
   ]
  },
  {
   "cell_type": "code",
   "execution_count": 3,
   "metadata": {},
   "outputs": [],
   "source": [
    "def potential(atom_profile, x) :\n",
    "    R_0 = 1.2 * ((atom_profile[0] - 4)**(1/3) + 4**(1/3))\n",
    "    if x < R_0 :\n",
    "        #print(atom_profile[1])\n",
    "        return atom_profile[1]\n",
    "    else :\n",
    "        #print(((2 * (atom_profile[2] - 2))/ (x)) * q_e)\n",
    "        return  ((2 * (atom_profile[2] - 2))/ (x)) * q_e\n"
   ]
  },
  {
   "cell_type": "code",
   "execution_count": 4,
   "metadata": {},
   "outputs": [],
   "source": [
    "def calculate_potential(atom_profile, r) :\n",
    "    v_diag = np.zeros(N)\n",
    "    for i in range(len(r)) :\n",
    "        v_diag[i] = potential(atom_profile, r[i])\n",
    "    potential_term = sparse.diags((v_diag))\n",
    "    print(potential_term)\n",
    "    return potential_term"
   ]
  },
  {
   "cell_type": "code",
   "execution_count": 5,
   "metadata": {},
   "outputs": [],
   "source": [
    "def calculate_laplace(r):\n",
    "    d = r[1] - r[0]\n",
    "    main_diag = -2.0 / d**2 * np.ones(N)     \n",
    "    off_diag  =  1.0 / d**2 * np.ones(N - 1)\n",
    "    laplace_term = sparse.diags([main_diag, off_diag, off_diag], (0, -1, 1))\n",
    "    return laplace_term\n",
    "     "
   ]
  },
  {
   "cell_type": "code",
   "execution_count": 6,
   "metadata": {},
   "outputs": [],
   "source": [
    "def build_hamiltonian(r):\n",
    "    laplace_term =   calculate_laplace(r)\n",
    "    #angular_term =   calculate_angular_term(r)\n",
    "    potential_term = calculate_potential(Polonium_212, r)\n",
    "     \n",
    "    hamiltonian = ((-h_bar**2 / (2.0 * m_p)) * (laplace_term)) - potential_term\n",
    " \n",
    "    return hamiltonian"
   ]
  },
  {
   "cell_type": "code",
   "execution_count": 7,
   "metadata": {},
   "outputs": [],
   "source": [
    "def plot(r, densities, eigenvalues):\n",
    "    plt.xlabel('x ($\\\\mathrm{\\AA}$)')\n",
    "    plt.ylabel('probability density ($\\\\mathrm{\\AA}^{-1}$)')\n",
    "    #plt.plot(r * 1e+10, potential_graph(Z,r), color='black',  label='potential')\n",
    "    energies = ['E = {: >5.2f} eV'.format(eigenvalues[i].real /((e_p))) for i in range(3)]\n",
    "    plt.plot(r * 1e+10, (densities[0]) , color='blue',  label=energies[0])\n",
    "    plt.plot(r * 1e+10, (densities[1]), color='green', label=energies[1])\n",
    "    plt.plot(r * 1e+10, (densities[2]), color='red',   label=energies[2])\n",
    "    #plt.plot(r * 1e+10, (densities[0]) , color='blue')\n",
    "    #plt.plot(r * 1e+10, (densities[1]), color='green')\n",
    "    #plt.plot(r * 1e+10, (densities[2]), color='red')\n",
    "    plt.legend()\n",
    "    plt.show()\n",
    "    return"
   ]
  },
  {
   "cell_type": "code",
   "execution_count": null,
   "metadata": {},
   "outputs": [],
   "source": []
  },
  {
   "cell_type": "code",
   "execution_count": 8,
   "metadata": {},
   "outputs": [],
   "source": [
    "def shooting_method(Hamiltonian, guess_energy):\n",
    "    def schrodinger_equation(x, psi, H, E):\n",
    "        return np.dot(H, psi) - E * psi\n",
    "\n",
    "    def boundary_condition(ya, yb):\n",
    "        return ya[0] - 1, yb[0]\n",
    "\n",
    "    # Initial wave function guess\n",
    "    psi0 = np.array([1, 0])\n",
    "\n",
    "    # Integration range\n",
    "    x_span = [r[0], r[-1]]\n",
    "\n",
    "    # Solve the boundary value problem\n",
    "    result = solve_ivp(lambda x, psi: schrodinger_equation(x, psi, Hamiltonian, guess_energy),\n",
    "                       x_span, psi0, method='RK45', events=boundary_condition)\n",
    "\n",
    "    return result.y[:, -1][0]\n",
    "\n",
    "\n",
    "def find_eigenvalues(Hamiltonian, num_eigenvalues):\n",
    "    eigenvalues = []\n",
    "    guess_energy = 0.0\n",
    "    while len(eigenvalues) < num_eigenvalues:\n",
    "        guess_energy += 0.1  # Incremental energy guess\n",
    "        wave_function_value = shooting_method(Hamiltonian, guess_energy)\n",
    "        if wave_function_value * shooting_method(Hamiltonian, guess_energy + 0.1) < 0:\n",
    "            eigenvalues.append(guess_energy)\n",
    "\n",
    "    return eigenvalues"
   ]
  },
  {
   "cell_type": "code",
   "execution_count": 10,
   "metadata": {},
   "outputs": [
    {
     "name": "stdout",
     "output_type": "stream",
     "text": [
      "  (0, 0)\t-40.0\n",
      "  (1, 1)\t-40.0\n",
      "  (2, 2)\t-40.0\n",
      "  (3, 3)\t-40.0\n",
      "  (4, 4)\t-40.0\n",
      "  (5, 5)\t-40.0\n",
      "  (6, 6)\t-40.0\n",
      "  (7, 7)\t-40.0\n",
      "  (8, 8)\t-40.0\n",
      "  (9, 9)\t-40.0\n",
      "  (10, 10)\t-40.0\n",
      "  (11, 11)\t-40.0\n",
      "  (12, 12)\t-40.0\n",
      "  (13, 13)\t-40.0\n",
      "  (14, 14)\t-40.0\n",
      "  (15, 15)\t-40.0\n",
      "  (16, 16)\t-40.0\n",
      "  (17, 17)\t-40.0\n",
      "  (18, 18)\t-40.0\n",
      "  (19, 19)\t-40.0\n",
      "  (20, 20)\t-40.0\n",
      "  (21, 21)\t-40.0\n",
      "  (22, 22)\t-40.0\n",
      "  (23, 23)\t-40.0\n",
      "  (24, 24)\t-40.0\n",
      "  :\t:\n",
      "  (1975, 1975)\t8.857383966244726\n",
      "  (1976, 1976)\t8.852901484480432\n",
      "  (1977, 1977)\t8.848423537346147\n",
      "  (1978, 1978)\t8.843950117964274\n",
      "  (1979, 1979)\t8.839481219471114\n",
      "  (1980, 1980)\t8.835016835016834\n",
      "  (1981, 1981)\t8.830556957765438\n",
      "  (1982, 1982)\t8.826101580894719\n",
      "  (1983, 1983)\t8.821650697596235\n",
      "  (1984, 1984)\t8.817204301075268\n",
      "  (1985, 1985)\t8.812762384550798\n",
      "  (1986, 1986)\t8.808324941255455\n",
      "  (1987, 1987)\t8.803891964435497\n",
      "  (1988, 1988)\t8.799463447350771\n",
      "  (1989, 1989)\t8.795039383274679\n",
      "  (1990, 1990)\t8.790619765494137\n",
      "  (1991, 1991)\t8.786204587309559\n",
      "  (1992, 1992)\t8.781793842034807\n",
      "  (1993, 1993)\t8.777387522997156\n",
      "  (1994, 1994)\t8.772985623537279\n",
      "  (1995, 1995)\t8.76858813700919\n",
      "  (1996, 1996)\t8.764195056780228\n",
      "  (1997, 1997)\t8.759806376231014\n",
      "  (1998, 1998)\t8.755422088755422\n",
      "  (1999, 1999)\t8.751042187760547\n"
     ]
    },
    {
     "ename": "NotImplementedError",
     "evalue": "subtracting a nonzero scalar from a sparse array is not supported",
     "output_type": "error",
     "traceback": [
      "\u001b[0;31m---------------------------------------------------------------------------\u001b[0m",
      "\u001b[0;31mNotImplementedError\u001b[0m                       Traceback (most recent call last)",
      "Cell \u001b[0;32mIn[10], line 2\u001b[0m\n\u001b[1;32m      1\u001b[0m hamiltonian \u001b[39m=\u001b[39m build_hamiltonian(r)\n\u001b[0;32m----> 2\u001b[0m shooting_method(hamiltonian, \u001b[39m5\u001b[39m)\n\u001b[1;32m      4\u001b[0m densities \u001b[39m=\u001b[39m [(np\u001b[39m.\u001b[39mabsolute(eigenvectors[i, :])\u001b[39m*\u001b[39m\u001b[39m*\u001b[39m\u001b[39m2\u001b[39m ) \u001b[39mfor\u001b[39;00m i \u001b[39min\u001b[39;00m \u001b[39mrange\u001b[39m(\u001b[39mlen\u001b[39m(eigenvalues))]\n\u001b[1;32m      6\u001b[0m \u001b[39m\"\"\" plot results \"\"\"\u001b[39;00m\n",
      "Cell \u001b[0;32mIn[8], line 15\u001b[0m, in \u001b[0;36mshooting_method\u001b[0;34m(Hamiltonian, guess_energy)\u001b[0m\n\u001b[1;32m     12\u001b[0m x_span \u001b[39m=\u001b[39m [r[\u001b[39m0\u001b[39m], r[\u001b[39m-\u001b[39m\u001b[39m1\u001b[39m]]\n\u001b[1;32m     14\u001b[0m \u001b[39m# Solve the boundary value problem\u001b[39;00m\n\u001b[0;32m---> 15\u001b[0m result \u001b[39m=\u001b[39m solve_ivp(\u001b[39mlambda\u001b[39;00m x, psi: schrodinger_equation(x, psi, Hamiltonian, guess_energy),\n\u001b[1;32m     16\u001b[0m                    x_span, psi0, method\u001b[39m=\u001b[39m\u001b[39m'\u001b[39m\u001b[39mRK45\u001b[39m\u001b[39m'\u001b[39m, events\u001b[39m=\u001b[39mboundary_condition)\n\u001b[1;32m     18\u001b[0m \u001b[39mreturn\u001b[39;00m result\u001b[39m.\u001b[39my[:, \u001b[39m-\u001b[39m\u001b[39m1\u001b[39m][\u001b[39m0\u001b[39m]\n",
      "File \u001b[0;32m~/anaconda3/lib/python3.11/site-packages/scipy/integrate/_ivp/ivp.py:568\u001b[0m, in \u001b[0;36msolve_ivp\u001b[0;34m(fun, t_span, y0, method, t_eval, dense_output, events, vectorized, args, **options)\u001b[0m\n\u001b[1;32m    565\u001b[0m \u001b[39mif\u001b[39;00m method \u001b[39min\u001b[39;00m METHODS:\n\u001b[1;32m    566\u001b[0m     method \u001b[39m=\u001b[39m METHODS[method]\n\u001b[0;32m--> 568\u001b[0m solver \u001b[39m=\u001b[39m method(fun, t0, y0, tf, vectorized\u001b[39m=\u001b[39mvectorized, \u001b[39m*\u001b[39m\u001b[39m*\u001b[39moptions)\n\u001b[1;32m    570\u001b[0m \u001b[39mif\u001b[39;00m t_eval \u001b[39mis\u001b[39;00m \u001b[39mNone\u001b[39;00m:\n\u001b[1;32m    571\u001b[0m     ts \u001b[39m=\u001b[39m [t0]\n",
      "File \u001b[0;32m~/anaconda3/lib/python3.11/site-packages/scipy/integrate/_ivp/rk.py:94\u001b[0m, in \u001b[0;36mRungeKutta.__init__\u001b[0;34m(self, fun, t0, y0, t_bound, max_step, rtol, atol, vectorized, first_step, **extraneous)\u001b[0m\n\u001b[1;32m     92\u001b[0m \u001b[39mself\u001b[39m\u001b[39m.\u001b[39mmax_step \u001b[39m=\u001b[39m validate_max_step(max_step)\n\u001b[1;32m     93\u001b[0m \u001b[39mself\u001b[39m\u001b[39m.\u001b[39mrtol, \u001b[39mself\u001b[39m\u001b[39m.\u001b[39matol \u001b[39m=\u001b[39m validate_tol(rtol, atol, \u001b[39mself\u001b[39m\u001b[39m.\u001b[39mn)\n\u001b[0;32m---> 94\u001b[0m \u001b[39mself\u001b[39m\u001b[39m.\u001b[39mf \u001b[39m=\u001b[39m \u001b[39mself\u001b[39m\u001b[39m.\u001b[39mfun(\u001b[39mself\u001b[39m\u001b[39m.\u001b[39mt, \u001b[39mself\u001b[39m\u001b[39m.\u001b[39my)\n\u001b[1;32m     95\u001b[0m \u001b[39mif\u001b[39;00m first_step \u001b[39mis\u001b[39;00m \u001b[39mNone\u001b[39;00m:\n\u001b[1;32m     96\u001b[0m     \u001b[39mself\u001b[39m\u001b[39m.\u001b[39mh_abs \u001b[39m=\u001b[39m select_initial_step(\n\u001b[1;32m     97\u001b[0m         \u001b[39mself\u001b[39m\u001b[39m.\u001b[39mfun, \u001b[39mself\u001b[39m\u001b[39m.\u001b[39mt, \u001b[39mself\u001b[39m\u001b[39m.\u001b[39my, \u001b[39mself\u001b[39m\u001b[39m.\u001b[39mf, \u001b[39mself\u001b[39m\u001b[39m.\u001b[39mdirection,\n\u001b[1;32m     98\u001b[0m         \u001b[39mself\u001b[39m\u001b[39m.\u001b[39merror_estimator_order, \u001b[39mself\u001b[39m\u001b[39m.\u001b[39mrtol, \u001b[39mself\u001b[39m\u001b[39m.\u001b[39matol)\n",
      "File \u001b[0;32m~/anaconda3/lib/python3.11/site-packages/scipy/integrate/_ivp/base.py:154\u001b[0m, in \u001b[0;36mOdeSolver.__init__.<locals>.fun\u001b[0;34m(t, y)\u001b[0m\n\u001b[1;32m    152\u001b[0m \u001b[39mdef\u001b[39;00m \u001b[39mfun\u001b[39m(t, y):\n\u001b[1;32m    153\u001b[0m     \u001b[39mself\u001b[39m\u001b[39m.\u001b[39mnfev \u001b[39m+\u001b[39m\u001b[39m=\u001b[39m \u001b[39m1\u001b[39m\n\u001b[0;32m--> 154\u001b[0m     \u001b[39mreturn\u001b[39;00m \u001b[39mself\u001b[39m\u001b[39m.\u001b[39mfun_single(t, y)\n",
      "File \u001b[0;32m~/anaconda3/lib/python3.11/site-packages/scipy/integrate/_ivp/base.py:23\u001b[0m, in \u001b[0;36mcheck_arguments.<locals>.fun_wrapped\u001b[0;34m(t, y)\u001b[0m\n\u001b[1;32m     22\u001b[0m \u001b[39mdef\u001b[39;00m \u001b[39mfun_wrapped\u001b[39m(t, y):\n\u001b[0;32m---> 23\u001b[0m     \u001b[39mreturn\u001b[39;00m np\u001b[39m.\u001b[39masarray(fun(t, y), dtype\u001b[39m=\u001b[39mdtype)\n",
      "Cell \u001b[0;32mIn[8], line 15\u001b[0m, in \u001b[0;36mshooting_method.<locals>.<lambda>\u001b[0;34m(x, psi)\u001b[0m\n\u001b[1;32m     12\u001b[0m x_span \u001b[39m=\u001b[39m [r[\u001b[39m0\u001b[39m], r[\u001b[39m-\u001b[39m\u001b[39m1\u001b[39m]]\n\u001b[1;32m     14\u001b[0m \u001b[39m# Solve the boundary value problem\u001b[39;00m\n\u001b[0;32m---> 15\u001b[0m result \u001b[39m=\u001b[39m solve_ivp(\u001b[39mlambda\u001b[39;00m x, psi: schrodinger_equation(x, psi, Hamiltonian, guess_energy),\n\u001b[1;32m     16\u001b[0m                    x_span, psi0, method\u001b[39m=\u001b[39m\u001b[39m'\u001b[39m\u001b[39mRK45\u001b[39m\u001b[39m'\u001b[39m, events\u001b[39m=\u001b[39mboundary_condition)\n\u001b[1;32m     18\u001b[0m \u001b[39mreturn\u001b[39;00m result\u001b[39m.\u001b[39my[:, \u001b[39m-\u001b[39m\u001b[39m1\u001b[39m][\u001b[39m0\u001b[39m]\n",
      "Cell \u001b[0;32mIn[8], line 3\u001b[0m, in \u001b[0;36mshooting_method.<locals>.schrodinger_equation\u001b[0;34m(x, psi, H, E)\u001b[0m\n\u001b[1;32m      2\u001b[0m \u001b[39mdef\u001b[39;00m \u001b[39mschrodinger_equation\u001b[39m(x, psi, H, E):\n\u001b[0;32m----> 3\u001b[0m     \u001b[39mreturn\u001b[39;00m np\u001b[39m.\u001b[39mdot(H, psi) \u001b[39m-\u001b[39m E \u001b[39m*\u001b[39m psi\n",
      "File \u001b[0;32m~/anaconda3/lib/python3.11/site-packages/scipy/sparse/_base.py:481\u001b[0m, in \u001b[0;36m_spbase.__sub__\u001b[0;34m(self, other)\u001b[0m\n\u001b[1;32m    479\u001b[0m     \u001b[39mif\u001b[39;00m other \u001b[39m==\u001b[39m \u001b[39m0\u001b[39m:\n\u001b[1;32m    480\u001b[0m         \u001b[39mreturn\u001b[39;00m \u001b[39mself\u001b[39m\u001b[39m.\u001b[39mcopy()\n\u001b[0;32m--> 481\u001b[0m     \u001b[39mraise\u001b[39;00m \u001b[39mNotImplementedError\u001b[39;00m(\u001b[39m'\u001b[39m\u001b[39msubtracting a nonzero scalar from a \u001b[39m\u001b[39m'\u001b[39m\n\u001b[1;32m    482\u001b[0m                               \u001b[39m'\u001b[39m\u001b[39msparse array is not supported\u001b[39m\u001b[39m'\u001b[39m)\n\u001b[1;32m    483\u001b[0m \u001b[39melif\u001b[39;00m issparse(other):\n\u001b[1;32m    484\u001b[0m     \u001b[39mif\u001b[39;00m other\u001b[39m.\u001b[39mshape \u001b[39m!=\u001b[39m \u001b[39mself\u001b[39m\u001b[39m.\u001b[39mshape:\n",
      "\u001b[0;31mNotImplementedError\u001b[0m: subtracting a nonzero scalar from a sparse array is not supported"
     ]
    }
   ],
   "source": [
    "hamiltonian = build_hamiltonian(r)\n",
    "shooting_method(hamiltonian, 5)\n",
    "\n",
    "densities = [(np.absolute(eigenvectors[i, :])**2 ) for i in range(len(eigenvalues))]\n",
    " \n",
    "\"\"\" plot results \"\"\"\n",
    "\n",
    "plot(r, densities, eigenvalues) \n",
    " "
   ]
  },
  {
   "cell_type": "code",
   "execution_count": null,
   "metadata": {},
   "outputs": [
    {
     "name": "stdout",
     "output_type": "stream",
     "text": [
      "  (0, 0)\t-40.0\n",
      "  (1, 1)\t-40.0\n",
      "  (2, 2)\t-40.0\n",
      "  (3, 3)\t-40.0\n",
      "  (4, 4)\t-40.0\n",
      "  (5, 5)\t-40.0\n",
      "  (6, 6)\t-40.0\n",
      "  (7, 7)\t-40.0\n",
      "  (8, 8)\t-40.0\n",
      "  (9, 9)\t-40.0\n",
      "  (10, 10)\t-40.0\n",
      "  (11, 11)\t-40.0\n",
      "  (12, 12)\t-40.0\n",
      "  (13, 13)\t-40.0\n",
      "  (14, 14)\t-40.0\n",
      "  (15, 15)\t-40.0\n",
      "  (16, 16)\t-40.0\n",
      "  (17, 17)\t-40.0\n",
      "  (18, 18)\t-40.0\n",
      "  (19, 19)\t-40.0\n",
      "  (20, 20)\t-40.0\n",
      "  (21, 21)\t-40.0\n",
      "  (22, 22)\t-40.0\n",
      "  (23, 23)\t-40.0\n",
      "  (24, 24)\t-40.0\n",
      "  :\t:\n",
      "  (1975, 1975)\t8.857383966244726\n",
      "  (1976, 1976)\t8.852901484480432\n",
      "  (1977, 1977)\t8.848423537346147\n",
      "  (1978, 1978)\t8.843950117964274\n",
      "  (1979, 1979)\t8.839481219471114\n",
      "  (1980, 1980)\t8.835016835016834\n",
      "  (1981, 1981)\t8.830556957765438\n",
      "  (1982, 1982)\t8.826101580894719\n",
      "  (1983, 1983)\t8.821650697596235\n",
      "  (1984, 1984)\t8.817204301075268\n",
      "  (1985, 1985)\t8.812762384550798\n",
      "  (1986, 1986)\t8.808324941255455\n",
      "  (1987, 1987)\t8.803891964435497\n",
      "  (1988, 1988)\t8.799463447350771\n",
      "  (1989, 1989)\t8.795039383274679\n",
      "  (1990, 1990)\t8.790619765494137\n",
      "  (1991, 1991)\t8.786204587309559\n",
      "  (1992, 1992)\t8.781793842034807\n",
      "  (1993, 1993)\t8.777387522997156\n",
      "  (1994, 1994)\t8.772985623537279\n",
      "  (1995, 1995)\t8.76858813700919\n",
      "  (1996, 1996)\t8.764195056780228\n",
      "  (1997, 1997)\t8.759806376231014\n",
      "  (1998, 1998)\t8.755422088755422\n",
      "  (1999, 1999)\t8.751042187760547\n"
     ]
    },
    {
     "data": {
      "image/png": "[encoded data removed]",
      "text/plain": [
       "<Figure size 640x480 with 1 Axes>"
      ]
     },
     "metadata": {},
     "output_type": "display_data"
    }
   ],
   "source": [
    "hamiltonian = build_hamiltonian(r)\n",
    " \n",
    "\"\"\" solve eigenproblem \"\"\"\n",
    "#E, psi_E=eigh(hamiltonian)\n",
    "number_of_eigenvalues = 30\n",
    "eigenvalues, eigenvectors = eigs(hamiltonian, k=number_of_eigenvalues, which='SM')\n",
    " \n",
    "\"\"\" sort eigenvalue and eigenvectors \"\"\"\n",
    "eigenvectors = np.array([x for _, x in sorted(zip(eigenvalues, eigenvectors.T), key=lambda pair: pair[0])])\n",
    "eigenvalues = np.sort(eigenvalues)\n",
    "\n",
    "\"\"\" compute probability density for each eigenvector \"\"\"\n",
    "densities = [(np.absolute(eigenvectors[i, :])**2 ) for i in range(len(eigenvalues))]\n",
    " \n",
    "\"\"\" plot results \"\"\"\n",
    "\n",
    "plot(r, densities, eigenvalues) "
   ]
  },
  {
   "cell_type": "code",
   "execution_count": null,
   "metadata": {},
   "outputs": [
    {
     "name": "stdout",
     "output_type": "stream",
     "text": [
      "  (0, 0)\t-40.0\n",
      "  (1, 1)\t-40.0\n",
      "  (2, 2)\t-40.0\n",
      "  (3, 3)\t-40.0\n",
      "  (4, 4)\t-40.0\n",
      "  (5, 5)\t-40.0\n",
      "  (6, 6)\t-40.0\n",
      "  (7, 7)\t-40.0\n",
      "  (8, 8)\t-40.0\n",
      "  (9, 9)\t-40.0\n",
      "  (10, 10)\t-40.0\n",
      "  (11, 11)\t-40.0\n",
      "  (12, 12)\t-40.0\n",
      "  (13, 13)\t-40.0\n",
      "  (14, 14)\t-40.0\n",
      "  (15, 15)\t-40.0\n",
      "  (16, 16)\t-40.0\n",
      "  (17, 17)\t-40.0\n",
      "  (18, 18)\t-40.0\n",
      "  (19, 19)\t-40.0\n",
      "  (20, 20)\t-40.0\n",
      "  (21, 21)\t-40.0\n",
      "  (22, 22)\t-40.0\n",
      "  (23, 23)\t-40.0\n",
      "  (24, 24)\t-40.0\n",
      "  :\t:\n",
      "  (1975, 1975)\t8.857383966244726\n",
      "  (1976, 1976)\t8.852901484480432\n",
      "  (1977, 1977)\t8.848423537346147\n",
      "  (1978, 1978)\t8.843950117964274\n",
      "  (1979, 1979)\t8.839481219471114\n",
      "  (1980, 1980)\t8.835016835016834\n",
      "  (1981, 1981)\t8.830556957765438\n",
      "  (1982, 1982)\t8.826101580894719\n",
      "  (1983, 1983)\t8.821650697596235\n",
      "  (1984, 1984)\t8.817204301075268\n",
      "  (1985, 1985)\t8.812762384550798\n",
      "  (1986, 1986)\t8.808324941255455\n",
      "  (1987, 1987)\t8.803891964435497\n",
      "  (1988, 1988)\t8.799463447350771\n",
      "  (1989, 1989)\t8.795039383274679\n",
      "  (1990, 1990)\t8.790619765494137\n",
      "  (1991, 1991)\t8.786204587309559\n",
      "  (1992, 1992)\t8.781793842034807\n",
      "  (1993, 1993)\t8.777387522997156\n",
      "  (1994, 1994)\t8.772985623537279\n",
      "  (1995, 1995)\t8.76858813700919\n",
      "  (1996, 1996)\t8.764195056780228\n",
      "  (1997, 1997)\t8.759806376231014\n",
      "  (1998, 1998)\t8.755422088755422\n",
      "  (1999, 1999)\t8.751042187760547\n"
     ]
    },
    {
     "ename": "NotImplementedError",
     "evalue": "subtracting a nonzero scalar from a sparse array is not supported",
     "output_type": "error",
     "traceback": [
      "\u001b[0;31m---------------------------------------------------------------------------\u001b[0m",
      "\u001b[0;31mNotImplementedError\u001b[0m                       Traceback (most recent call last)",
      "Cell \u001b[0;32mIn[21], line 3\u001b[0m\n\u001b[1;32m      1\u001b[0m hamiltonian \u001b[39m=\u001b[39m build_hamiltonian(r)\n\u001b[1;32m      2\u001b[0m num_eigenvalues \u001b[39m=\u001b[39m \u001b[39m5\u001b[39m  \u001b[39m# specify the number of eigenvalues to find\u001b[39;00m\n\u001b[0;32m----> 3\u001b[0m eigenvalues \u001b[39m=\u001b[39m find_eigenvalues(hamiltonian, num_eigenvalues)\n\u001b[1;32m      4\u001b[0m \u001b[39m\"\"\" compute probability density for each eigenvector \"\"\"\u001b[39;00m\n\u001b[1;32m      5\u001b[0m densities \u001b[39m=\u001b[39m [(np\u001b[39m.\u001b[39mabsolute(eigenvectors[i, :])\u001b[39m*\u001b[39m\u001b[39m*\u001b[39m\u001b[39m2\u001b[39m ) \u001b[39mfor\u001b[39;00m i \u001b[39min\u001b[39;00m \u001b[39mrange\u001b[39m(\u001b[39mlen\u001b[39m(eigenvalues))]\n",
      "Cell \u001b[0;32mIn[18], line 26\u001b[0m, in \u001b[0;36mfind_eigenvalues\u001b[0;34m(Hamiltonian, num_eigenvalues)\u001b[0m\n\u001b[1;32m     24\u001b[0m \u001b[39mwhile\u001b[39;00m \u001b[39mlen\u001b[39m(eigenvalues) \u001b[39m<\u001b[39m num_eigenvalues:\n\u001b[1;32m     25\u001b[0m     guess_energy \u001b[39m+\u001b[39m\u001b[39m=\u001b[39m \u001b[39m0.1\u001b[39m  \u001b[39m# Incremental energy guess\u001b[39;00m\n\u001b[0;32m---> 26\u001b[0m     wave_function_value \u001b[39m=\u001b[39m shooting_method(Hamiltonian, guess_energy)\n\u001b[1;32m     27\u001b[0m     \u001b[39mif\u001b[39;00m wave_function_value \u001b[39m*\u001b[39m shooting_method(Hamiltonian, guess_energy \u001b[39m+\u001b[39m \u001b[39m0.1\u001b[39m) \u001b[39m<\u001b[39m \u001b[39m0\u001b[39m:\n\u001b[1;32m     28\u001b[0m         eigenvalues\u001b[39m.\u001b[39mappend(guess_energy)\n",
      "Cell \u001b[0;32mIn[18], line 15\u001b[0m, in \u001b[0;36mshooting_method\u001b[0;34m(Hamiltonian, guess_energy)\u001b[0m\n\u001b[1;32m     12\u001b[0m x_span \u001b[39m=\u001b[39m [r[\u001b[39m0\u001b[39m], r[\u001b[39m-\u001b[39m\u001b[39m1\u001b[39m]]\n\u001b[1;32m     14\u001b[0m \u001b[39m# Solve the boundary value problem\u001b[39;00m\n\u001b[0;32m---> 15\u001b[0m result \u001b[39m=\u001b[39m solve_ivp(\u001b[39mlambda\u001b[39;00m x, psi: schrodinger_equation(x, psi, Hamiltonian, guess_energy),\n\u001b[1;32m     16\u001b[0m                    x_span, psi0, method\u001b[39m=\u001b[39m\u001b[39m'\u001b[39m\u001b[39mRK45\u001b[39m\u001b[39m'\u001b[39m, events\u001b[39m=\u001b[39mboundary_condition)\n\u001b[1;32m     18\u001b[0m \u001b[39mreturn\u001b[39;00m result\u001b[39m.\u001b[39my[:, \u001b[39m-\u001b[39m\u001b[39m1\u001b[39m][\u001b[39m0\u001b[39m]\n",
      "File \u001b[0;32m~/anaconda3/lib/python3.11/site-packages/scipy/integrate/_ivp/ivp.py:568\u001b[0m, in \u001b[0;36msolve_ivp\u001b[0;34m(fun, t_span, y0, method, t_eval, dense_output, events, vectorized, args, **options)\u001b[0m\n\u001b[1;32m    565\u001b[0m \u001b[39mif\u001b[39;00m method \u001b[39min\u001b[39;00m METHODS:\n\u001b[1;32m    566\u001b[0m     method \u001b[39m=\u001b[39m METHODS[method]\n\u001b[0;32m--> 568\u001b[0m solver \u001b[39m=\u001b[39m method(fun, t0, y0, tf, vectorized\u001b[39m=\u001b[39mvectorized, \u001b[39m*\u001b[39m\u001b[39m*\u001b[39moptions)\n\u001b[1;32m    570\u001b[0m \u001b[39mif\u001b[39;00m t_eval \u001b[39mis\u001b[39;00m \u001b[39mNone\u001b[39;00m:\n\u001b[1;32m    571\u001b[0m     ts \u001b[39m=\u001b[39m [t0]\n",
      "File \u001b[0;32m~/anaconda3/lib/python3.11/site-packages/scipy/integrate/_ivp/rk.py:94\u001b[0m, in \u001b[0;36mRungeKutta.__init__\u001b[0;34m(self, fun, t0, y0, t_bound, max_step, rtol, atol, vectorized, first_step, **extraneous)\u001b[0m\n\u001b[1;32m     92\u001b[0m \u001b[39mself\u001b[39m\u001b[39m.\u001b[39mmax_step \u001b[39m=\u001b[39m validate_max_step(max_step)\n\u001b[1;32m     93\u001b[0m \u001b[39mself\u001b[39m\u001b[39m.\u001b[39mrtol, \u001b[39mself\u001b[39m\u001b[39m.\u001b[39matol \u001b[39m=\u001b[39m validate_tol(rtol, atol, \u001b[39mself\u001b[39m\u001b[39m.\u001b[39mn)\n\u001b[0;32m---> 94\u001b[0m \u001b[39mself\u001b[39m\u001b[39m.\u001b[39mf \u001b[39m=\u001b[39m \u001b[39mself\u001b[39m\u001b[39m.\u001b[39mfun(\u001b[39mself\u001b[39m\u001b[39m.\u001b[39mt, \u001b[39mself\u001b[39m\u001b[39m.\u001b[39my)\n\u001b[1;32m     95\u001b[0m \u001b[39mif\u001b[39;00m first_step \u001b[39mis\u001b[39;00m \u001b[39mNone\u001b[39;00m:\n\u001b[1;32m     96\u001b[0m     \u001b[39mself\u001b[39m\u001b[39m.\u001b[39mh_abs \u001b[39m=\u001b[39m select_initial_step(\n\u001b[1;32m     97\u001b[0m         \u001b[39mself\u001b[39m\u001b[39m.\u001b[39mfun, \u001b[39mself\u001b[39m\u001b[39m.\u001b[39mt, \u001b[39mself\u001b[39m\u001b[39m.\u001b[39my, \u001b[39mself\u001b[39m\u001b[39m.\u001b[39mf, \u001b[39mself\u001b[39m\u001b[39m.\u001b[39mdirection,\n\u001b[1;32m     98\u001b[0m         \u001b[39mself\u001b[39m\u001b[39m.\u001b[39merror_estimator_order, \u001b[39mself\u001b[39m\u001b[39m.\u001b[39mrtol, \u001b[39mself\u001b[39m\u001b[39m.\u001b[39matol)\n",
      "File \u001b[0;32m~/anaconda3/lib/python3.11/site-packages/scipy/integrate/_ivp/base.py:154\u001b[0m, in \u001b[0;36mOdeSolver.__init__.<locals>.fun\u001b[0;34m(t, y)\u001b[0m\n\u001b[1;32m    152\u001b[0m \u001b[39mdef\u001b[39;00m \u001b[39mfun\u001b[39m(t, y):\n\u001b[1;32m    153\u001b[0m     \u001b[39mself\u001b[39m\u001b[39m.\u001b[39mnfev \u001b[39m+\u001b[39m\u001b[39m=\u001b[39m \u001b[39m1\u001b[39m\n\u001b[0;32m--> 154\u001b[0m     \u001b[39mreturn\u001b[39;00m \u001b[39mself\u001b[39m\u001b[39m.\u001b[39mfun_single(t, y)\n",
      "File \u001b[0;32m~/anaconda3/lib/python3.11/site-packages/scipy/integrate/_ivp/base.py:23\u001b[0m, in \u001b[0;36mcheck_arguments.<locals>.fun_wrapped\u001b[0;34m(t, y)\u001b[0m\n\u001b[1;32m     22\u001b[0m \u001b[39mdef\u001b[39;00m \u001b[39mfun_wrapped\u001b[39m(t, y):\n\u001b[0;32m---> 23\u001b[0m     \u001b[39mreturn\u001b[39;00m np\u001b[39m.\u001b[39masarray(fun(t, y), dtype\u001b[39m=\u001b[39mdtype)\n",
      "Cell \u001b[0;32mIn[18], line 15\u001b[0m, in \u001b[0;36mshooting_method.<locals>.<lambda>\u001b[0;34m(x, psi)\u001b[0m\n\u001b[1;32m     12\u001b[0m x_span \u001b[39m=\u001b[39m [r[\u001b[39m0\u001b[39m], r[\u001b[39m-\u001b[39m\u001b[39m1\u001b[39m]]\n\u001b[1;32m     14\u001b[0m \u001b[39m# Solve the boundary value problem\u001b[39;00m\n\u001b[0;32m---> 15\u001b[0m result \u001b[39m=\u001b[39m solve_ivp(\u001b[39mlambda\u001b[39;00m x, psi: schrodinger_equation(x, psi, Hamiltonian, guess_energy),\n\u001b[1;32m     16\u001b[0m                    x_span, psi0, method\u001b[39m=\u001b[39m\u001b[39m'\u001b[39m\u001b[39mRK45\u001b[39m\u001b[39m'\u001b[39m, events\u001b[39m=\u001b[39mboundary_condition)\n\u001b[1;32m     18\u001b[0m \u001b[39mreturn\u001b[39;00m result\u001b[39m.\u001b[39my[:, \u001b[39m-\u001b[39m\u001b[39m1\u001b[39m][\u001b[39m0\u001b[39m]\n",
      "Cell \u001b[0;32mIn[18], line 3\u001b[0m, in \u001b[0;36mshooting_method.<locals>.schrodinger_equation\u001b[0;34m(x, psi, H, E)\u001b[0m\n\u001b[1;32m      2\u001b[0m \u001b[39mdef\u001b[39;00m \u001b[39mschrodinger_equation\u001b[39m(x, psi, H, E):\n\u001b[0;32m----> 3\u001b[0m     \u001b[39mreturn\u001b[39;00m np\u001b[39m.\u001b[39mdot(H, psi) \u001b[39m-\u001b[39m E \u001b[39m*\u001b[39m psi\n",
      "File \u001b[0;32m~/anaconda3/lib/python3.11/site-packages/scipy/sparse/_base.py:481\u001b[0m, in \u001b[0;36m_spbase.__sub__\u001b[0;34m(self, other)\u001b[0m\n\u001b[1;32m    479\u001b[0m     \u001b[39mif\u001b[39;00m other \u001b[39m==\u001b[39m \u001b[39m0\u001b[39m:\n\u001b[1;32m    480\u001b[0m         \u001b[39mreturn\u001b[39;00m \u001b[39mself\u001b[39m\u001b[39m.\u001b[39mcopy()\n\u001b[0;32m--> 481\u001b[0m     \u001b[39mraise\u001b[39;00m \u001b[39mNotImplementedError\u001b[39;00m(\u001b[39m'\u001b[39m\u001b[39msubtracting a nonzero scalar from a \u001b[39m\u001b[39m'\u001b[39m\n\u001b[1;32m    482\u001b[0m                               \u001b[39m'\u001b[39m\u001b[39msparse array is not supported\u001b[39m\u001b[39m'\u001b[39m)\n\u001b[1;32m    483\u001b[0m \u001b[39melif\u001b[39;00m issparse(other):\n\u001b[1;32m    484\u001b[0m     \u001b[39mif\u001b[39;00m other\u001b[39m.\u001b[39mshape \u001b[39m!=\u001b[39m \u001b[39mself\u001b[39m\u001b[39m.\u001b[39mshape:\n",
      "\u001b[0;31mNotImplementedError\u001b[0m: subtracting a nonzero scalar from a sparse array is not supported"
     ]
    }
   ],
   "source": [
    "hamiltonian = build_hamiltonian(r)\n",
    "num_eigenvalues = 5  # specify the number of eigenvalues to find\n",
    "eigenvalues = find_eigenvalues(hamiltonian, num_eigenvalues)\n",
    "\"\"\" compute probability density for each eigenvector \"\"\"\n",
    "densities = [(np.absolute(eigenvectors[i, :])**2 ) for i in range(len(eigenvalues))]\n",
    " \n",
    "\"\"\" plot results \"\"\"\n",
    "\n",
    "plot(r, densities, eigenvalues) "
   ]
  },
  {
   "cell_type": "code",
   "execution_count": null,
   "metadata": {},
   "outputs": [],
   "source": [
    "hamiltonian = build_hamiltonian(r)\n",
    " \n",
    "\"\"\" solve eigenproblem \"\"\"\n",
    "#E, psi_E=eigh(hamiltonian)\n",
    "number_of_eigenvalues = 30\n",
    "eigenvalues, eigenvectors = eigs(hamiltonian, k=number_of_eigenvalues, which='SM')\n",
    " \n",
    "\"\"\" sort eigenvalue and eigenvectors \"\"\"\n",
    "eigenvectors = np.array([x for _, x in sorted(zip(eigenvalues, eigenvectors.T), key=lambda pair: pair[0])])\n",
    "eigenvalues = np.sort(eigenvalues)\n",
    "\n",
    "\"\"\" compute probability density for each eigenvector \"\"\"\n",
    "densities = [(np.absolute(eigenvectors[i, :])**2 ) for i in range(len(eigenvalues))]\n",
    " \n",
    "\"\"\" plot results \"\"\"\n",
    "\n",
    "plot(r, densities, eigenvalues) "
   ]
  },
  {
   "cell_type": "code",
   "execution_count": null,
   "metadata": {},
   "outputs": [],
   "source": [
    "#hamiltonian = build_hamiltonian(r)\n",
    "#def find_energy_eigen(matrix):\n",
    "    #eigenvalues, eigenvectors = np.linalg.eigh(matrix)\n",
    "    #return eigenvalues, eigenvectors\n",
    "\n",
    "# Find energy eigenvalues and eigenvectors\n",
    "#energy_eigenvalues, energy_eigenvectors = find_energy_eigen(build_hamiltonian(r))\n"
   ]
  },
  {
   "cell_type": "code",
   "execution_count": null,
   "metadata": {},
   "outputs": [],
   "source": []
  },
  {
   "cell_type": "code",
   "execution_count": null,
   "metadata": {},
   "outputs": [
    {
     "data": {
      "text/plain": [
       "' plot results '"
      ]
     },
     "execution_count": 45,
     "metadata": {},
     "output_type": "execute_result"
    }
   ],
   "source": [
    "\"\"\" compute probability density for each eigenvector \"\"\"\n",
    "#densities = [(np.absolute(eigenvectors[i, :])**2 ) for i in range(len(eigenvalues))]\n",
    " \n",
    "\"\"\" plot results \"\"\"\n",
    "\n",
    "#plot(r, densities, eigenvalues) "
   ]
  },
  {
   "cell_type": "code",
   "execution_count": null,
   "metadata": {},
   "outputs": [],
   "source": [
    "#calculate_potential(Polonium_212, r)\n",
    "#calculate_laplace(r)\n",
    "#build_hamiltonian(r)"
   ]
  }
 ],
 "metadata": {
  "kernelspec": {
   "display_name": "base",
   "language": "python",
   "name": "python3"
  },
  "language_info": {
   "codemirror_mode": {
    "name": "ipython",
    "version": 3
   },
   "file_extension": ".py",
   "mimetype": "text/x-python",
   "name": "python",
   "nbconvert_exporter": "python",
   "pygments_lexer": "ipython3",
   "version": "3.11.5"
  },
  "orig_nbformat": 4,
  "vscode": {
   "interpreter": {
    "hash": "71739b08e43d4728a048e56a54a4002ae44013894d9d8764d437d428a6a1a2b0"
   }
  }
 },
 "nbformat": 4,
 "nbformat_minor": 2
}
